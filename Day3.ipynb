{
 "cells": [
  {
   "cell_type": "code",
   "execution_count": 1,
   "id": "b99cc5e3",
   "metadata": {},
   "outputs": [],
   "source": [
    "#Read file into list, removing \\n character\n",
    "items = []\n",
    "with open(r\"C:\\Users\\clare\\Advent-of-code-2022/input-day3.txt\", 'r') as list:\n",
    "    for item in list:               \n",
    "        items.append(item.strip('\\n'))  "
   ]
  },
  {
   "cell_type": "code",
   "execution_count": 2,
   "id": "fd3574f4",
   "metadata": {},
   "outputs": [
    {
     "name": "stdout",
     "output_type": "stream",
     "text": [
      "8185\n"
     ]
    }
   ],
   "source": [
    "totalpriority = 0\n",
    "for item in items:\n",
    "    #Get the length of each element\n",
    "    length = (int(len(item)/2))\n",
    "    #Split the string in half\n",
    "    pocket1 = (item[0:length])\n",
    "    pocket2 = (item[length:len(item)])\n",
    "    \n",
    "    #Find common letter\n",
    "    letter = str(set(pocket1).intersection(pocket2))\n",
    "    \n",
    "    #Calculate priority from ASCII value. 'a' has priority 1 and ASCII 97, so take ASCII - 96 to get priority\n",
    "    # 'A' has priority 27 and ASCII 65, so take ASCII - 38\n",
    "    if letter[2].islower():\n",
    "        priority = ord(letter[2]) - 96\n",
    "    elif letter.isupper():\n",
    "        priority = ord(letter[2]) - 38\n",
    "    else:\n",
    "        print('Not a letter')\n",
    "    \n",
    "    totalpriority = totalpriority + priority\n",
    "    \n",
    "print(totalpriority) "
   ]
  },
  {
   "cell_type": "code",
   "execution_count": 3,
   "id": "c87f01b8",
   "metadata": {},
   "outputs": [
    {
     "data": {
      "text/plain": [
       "300"
      ]
     },
     "execution_count": 3,
     "metadata": {},
     "output_type": "execute_result"
    }
   ],
   "source": [
    "#Find length of items\n",
    "len(items)"
   ]
  },
  {
   "cell_type": "code",
   "execution_count": 4,
   "id": "d45262c2",
   "metadata": {},
   "outputs": [],
   "source": [
    "#Split items into groups of 3\n",
    "groups = [items[i:i+3] for i in range(0, len(items), 3)]"
   ]
  },
  {
   "cell_type": "code",
   "execution_count": 5,
   "id": "85273c2a",
   "metadata": {},
   "outputs": [
    {
     "name": "stdout",
     "output_type": "stream",
     "text": [
      "2817\n"
     ]
    }
   ],
   "source": [
    "totalpriority = 0\n",
    "for group in groups:\n",
    "    #Find common item\n",
    "    common = str(set.intersection(*map(set, group)))\n",
    "    \n",
    "    #Find priority of letter in same way as part 1\n",
    "    if common[2].islower():\n",
    "        priority = ord(common[2]) - 96\n",
    "    elif common.isupper():\n",
    "        priority = ord(common[2]) - 38\n",
    "    else:\n",
    "        print('Not a letter')\n",
    "        \n",
    "    totalpriority = totalpriority + priority\n",
    "print(totalpriority)"
   ]
  }
 ],
 "metadata": {
  "kernelspec": {
   "display_name": "Python 3 (ipykernel)",
   "language": "python",
   "name": "python3"
  },
  "language_info": {
   "codemirror_mode": {
    "name": "ipython",
    "version": 3
   },
   "file_extension": ".py",
   "mimetype": "text/x-python",
   "name": "python",
   "nbconvert_exporter": "python",
   "pygments_lexer": "ipython3",
   "version": "3.9.7"
  }
 },
 "nbformat": 4,
 "nbformat_minor": 5
}
