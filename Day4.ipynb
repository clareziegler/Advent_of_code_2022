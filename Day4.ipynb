{
 "cells": [
  {
   "cell_type": "code",
   "execution_count": 1,
   "id": "f4048722",
   "metadata": {},
   "outputs": [],
   "source": [
    "#Read file into list, removing \\n character\n",
    "pairs = []\n",
    "with open(r\"C:\\Users\\clare\\Advent-of-code-2022/input-day4.txt\", 'r') as list:\n",
    "    for pair in list:               \n",
    "        pairs.append(pair.strip('\\n'))  "
   ]
  },
  {
   "cell_type": "markdown",
   "id": "49ca4af0",
   "metadata": {},
   "source": [
    "Part 1"
   ]
  },
  {
   "cell_type": "code",
   "execution_count": 2,
   "id": "e90f83a5",
   "metadata": {},
   "outputs": [],
   "source": [
    "#Define function to extract two numbers from pairings in the form 'x-y'\n",
    "def lower(pair):\n",
    "    return int(pair[0:pair.index('-')])\n",
    "def higher(pair):\n",
    "    return int(pair[pair.index('-')+1:]) "
   ]
  },
  {
   "cell_type": "code",
   "execution_count": 3,
   "id": "4ce0151b",
   "metadata": {},
   "outputs": [
    {
     "name": "stdout",
     "output_type": "stream",
     "text": [
      "532\n"
     ]
    }
   ],
   "source": [
    "#Check each element in list\n",
    "checks = []\n",
    "for pair in pairs:\n",
    "    #Split pair in half\n",
    "    firstpair = pair[:pair.index(',')]\n",
    "    secondpair = pair[pair.index(',')+1:]\n",
    "    \n",
    "    #Extract numbers\n",
    "    firstlower = lower(firstpair)\n",
    "    firsthigher = higher(firstpair)\n",
    "    secondlower = lower(secondpair)\n",
    "    secondhigher = higher(secondpair)\n",
    "    \n",
    "    #Check if one range contains the other\n",
    "    if firstlower == secondlower and firsthigher == secondhigher: \n",
    "        check = 1\n",
    "    elif firstlower <= secondlower and firsthigher >= secondhigher:\n",
    "        check = 1\n",
    "    elif secondlower <= firstlower and secondhigher >= firsthigher:\n",
    "        check = 1\n",
    "    else:\n",
    "        check = 0\n",
    "    checks.append(check)\n",
    "\n",
    "print(sum(checks))"
   ]
  },
  {
   "cell_type": "markdown",
   "id": "79557984",
   "metadata": {},
   "source": [
    "Part 2"
   ]
  },
  {
   "cell_type": "code",
   "execution_count": 4,
   "id": "1bf2f028",
   "metadata": {},
   "outputs": [
    {
     "name": "stdout",
     "output_type": "stream",
     "text": [
      "854\n"
     ]
    }
   ],
   "source": [
    "#Check each element in list\n",
    "checks = []\n",
    "for pair in pairs:\n",
    "    #Split pair in half\n",
    "    firstpair = pair[:pair.index(',')]\n",
    "    secondpair = pair[pair.index(',')+1:]\n",
    "    \n",
    "    #Extract numbers\n",
    "    firstlower = lower(firstpair)\n",
    "    firsthigher = higher(firstpair)\n",
    "    secondlower = lower(secondpair)\n",
    "    secondhigher = higher(secondpair)\n",
    "    \n",
    "    #Convert ranges to a set, and find intersection\n",
    "    firstset = set(range(firstlower, firsthigher + 1))\n",
    "    secondset = set(range(secondlower, secondhigher + 1))\n",
    "    intersect = firstset.intersection(secondset)\n",
    "    \n",
    "    #Check for intersection\n",
    "    if len(intersect) >0: \n",
    "        check = 1\n",
    "    else:\n",
    "        check = 0\n",
    "    checks.append(check)\n",
    "print(sum(checks))"
   ]
  }
 ],
 "metadata": {
  "kernelspec": {
   "display_name": "Python 3 (ipykernel)",
   "language": "python",
   "name": "python3"
  },
  "language_info": {
   "codemirror_mode": {
    "name": "ipython",
    "version": 3
   },
   "file_extension": ".py",
   "mimetype": "text/x-python",
   "name": "python",
   "nbconvert_exporter": "python",
   "pygments_lexer": "ipython3",
   "version": "3.9.7"
  }
 },
 "nbformat": 4,
 "nbformat_minor": 5
}
