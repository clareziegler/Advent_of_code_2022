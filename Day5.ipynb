{
 "cells": [
  {
   "cell_type": "code",
   "execution_count": 1,
   "id": "8e3788d4",
   "metadata": {},
   "outputs": [],
   "source": [
    "#Read file into list, removing \\n character\n",
    "moves = []\n",
    "with open(r\"C:\\Users\\clare\\Advent-of-code-2022/input-day5-instructions.txt\", 'r') as list:\n",
    "    for move in list:               \n",
    "        moves.append(move.strip('\\n')) "
   ]
  },
  {
   "cell_type": "code",
   "execution_count": 2,
   "id": "04d59c48",
   "metadata": {},
   "outputs": [],
   "source": [
    "#Define initial stacks as dictionary\n",
    "stackdict = {1: ['H', 'C', 'R'],\n",
    "             2: ['B', 'J', 'H', 'L', 'S', 'F'],\n",
    "             3: ['R', 'M', 'D', 'H', 'J', 'T', 'Q'],\n",
    "             4: ['S', 'G', 'R', 'H', 'Z', 'B', 'J'],\n",
    "             5: ['R', 'P', 'F', 'Z', 'T', 'D', 'C', 'B'],\n",
    "             6: ['T', 'H', 'C', 'G'],\n",
    "             7: ['S', 'N', 'V', 'Z', 'B', 'P', 'W', 'L'],\n",
    "             8: ['R', 'J', 'Q', 'G', 'C'],\n",
    "             9: ['L', 'D', 'T', 'R', 'H', 'P', 'F', 'S']}"
   ]
  },
  {
   "cell_type": "markdown",
   "id": "fa6c2491",
   "metadata": {},
   "source": [
    "Part 1"
   ]
  },
  {
   "cell_type": "code",
   "execution_count": 3,
   "id": "99557a66",
   "metadata": {},
   "outputs": [],
   "source": [
    "#Write function to move block from stack x to stack y\n",
    "def moveblock(movefrom, moveto):\n",
    "    #Read block letter \n",
    "    block = stackdict[movefrom][-1]\n",
    "    \n",
    "    #Add block to end of new stack\n",
    "    stackdict[moveto].append(block)\n",
    "    \n",
    "    #Remove block from original stack\n",
    "    stackdict[movefrom] = stackdict[movefrom][:-1]\n",
    "    return stackdict"
   ]
  },
  {
   "cell_type": "code",
   "execution_count": 4,
   "id": "5c79722e",
   "metadata": {},
   "outputs": [],
   "source": [
    "for move in moves:\n",
    "    #Extract numbers from string\n",
    "    instruction = move\n",
    "    movenum = int(instruction[instruction.index('move ')+ 5:instruction.index(' from')])\n",
    "    movefrom = int(instruction[instruction.index('from ') + 5:instruction.index(' to')])\n",
    "    moveto = int(instruction[instruction.index('to ') + 3:])\n",
    "    \n",
    "    #Move blocks\n",
    "    for i in range(0,movenum):\n",
    "        stackdict = moveblock(movefrom, moveto)"
   ]
  },
  {
   "cell_type": "code",
   "execution_count": 5,
   "id": "45941941",
   "metadata": {},
   "outputs": [
    {
     "name": "stdout",
     "output_type": "stream",
     "text": [
      "SHQWSRBDL\n"
     ]
    }
   ],
   "source": [
    "#Get block at top of each stack\n",
    "blocklist = []\n",
    "for i in range(1,10):\n",
    "    blocklist.append(stackdict[i][-1])\n",
    "print(''.join(blocklist))"
   ]
  },
  {
   "cell_type": "markdown",
   "id": "44fc7d0c",
   "metadata": {},
   "source": [
    "Part 2"
   ]
  },
  {
   "cell_type": "code",
   "execution_count": 6,
   "id": "aab4aa78",
   "metadata": {},
   "outputs": [],
   "source": [
    "#Redefine stack dictionary\n",
    "stackdict = {1: ['H', 'C', 'R'],\n",
    "             2: ['B', 'J', 'H', 'L', 'S', 'F'],\n",
    "             3: ['R', 'M', 'D', 'H', 'J', 'T', 'Q'],\n",
    "             4: ['S', 'G', 'R', 'H', 'Z', 'B', 'J'],\n",
    "             5: ['R', 'P', 'F', 'Z', 'T', 'D', 'C', 'B'],\n",
    "             6: ['T', 'H', 'C', 'G'],\n",
    "             7: ['S', 'N', 'V', 'Z', 'B', 'P', 'W', 'L'],\n",
    "             8: ['R', 'J', 'Q', 'G', 'C'],\n",
    "             9: ['L', 'D', 'T', 'R', 'H', 'P', 'F', 'S']}"
   ]
  },
  {
   "cell_type": "code",
   "execution_count": 7,
   "id": "691673c1",
   "metadata": {},
   "outputs": [],
   "source": [
    "#Write function to move z blocks from stack x to stack y\n",
    "def moveblocks(movenum, movefrom, moveto):\n",
    "    #Read block letter \n",
    "    block = stackdict[movefrom][-movenum:]\n",
    "    \n",
    "    #Add block to end of new stack\n",
    "    stackdict[moveto].extend(block)\n",
    "    \n",
    "    #Remove z blocks from original stack\n",
    "    stackdict[movefrom] = stackdict[movefrom][:-movenum]\n",
    "    return stackdict"
   ]
  },
  {
   "cell_type": "code",
   "execution_count": 8,
   "id": "bf2a817f",
   "metadata": {},
   "outputs": [],
   "source": [
    "for move in moves:\n",
    "    #Extract numbers from string\n",
    "    instruction = move\n",
    "    movenum = int(instruction[instruction.index('move ')+ 5:instruction.index(' from')])\n",
    "    movefrom = int(instruction[instruction.index('from ') + 5:instruction.index(' to')])\n",
    "    moveto = int(instruction[instruction.index('to ') + 3:])\n",
    "    \n",
    "    #Move blocks\n",
    "    stackdict = moveblocks(movenum, movefrom, moveto)"
   ]
  },
  {
   "cell_type": "code",
   "execution_count": 9,
   "id": "26cbe519",
   "metadata": {},
   "outputs": [
    {
     "name": "stdout",
     "output_type": "stream",
     "text": [
      "CDTQZHBRS\n"
     ]
    }
   ],
   "source": [
    "#Get block at top of each stack\n",
    "blocklist = []\n",
    "for i in range(1,10):\n",
    "    blocklist.append(stackdict[i][-1])\n",
    "print(''.join(blocklist))"
   ]
  }
 ],
 "metadata": {
  "kernelspec": {
   "display_name": "Python 3 (ipykernel)",
   "language": "python",
   "name": "python3"
  },
  "language_info": {
   "codemirror_mode": {
    "name": "ipython",
    "version": 3
   },
   "file_extension": ".py",
   "mimetype": "text/x-python",
   "name": "python",
   "nbconvert_exporter": "python",
   "pygments_lexer": "ipython3",
   "version": "3.9.7"
  }
 },
 "nbformat": 4,
 "nbformat_minor": 5
}
