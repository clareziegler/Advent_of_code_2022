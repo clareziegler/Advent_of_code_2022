{
 "cells": [
  {
   "cell_type": "markdown",
   "id": "0d082bf3",
   "metadata": {},
   "source": [
    "Part 1"
   ]
  },
  {
   "cell_type": "code",
   "execution_count": 1,
   "id": "d62e2eed",
   "metadata": {},
   "outputs": [],
   "source": [
    "#Read file into list\n",
    "plays = []\n",
    "with open(r\"C:\\Users\\clare\\Advent-of-code-2022/input-day2.txt\", 'r') as list:\n",
    "    for item in list:               \n",
    "        plays.append(item)  "
   ]
  },
  {
   "cell_type": "code",
   "execution_count": 2,
   "id": "4b905225",
   "metadata": {},
   "outputs": [],
   "source": [
    "#Define score dictionary\n",
    "scoredict = { 'A': {'play': 'Rock', 'beats': 'Scissors', 'loses': 'Paper'},\n",
    "              'B': {'play': 'Paper','beats': 'Rock', 'loses': 'Scissors'},\n",
    "              'C': {'play': 'Scissors','beats': 'Paper', 'loses': 'Rock'},\n",
    "              'X': {'play': 'Rock', 'points': 1},\n",
    "              'Y': {'play': 'Paper', 'points': 2},\n",
    "              'Z': {'play': 'Scissors', 'points': 3}}"
   ]
  },
  {
   "cell_type": "code",
   "execution_count": 3,
   "id": "57d9833a",
   "metadata": {},
   "outputs": [
    {
     "name": "stdout",
     "output_type": "stream",
     "text": [
      "10404\n"
     ]
    }
   ],
   "source": [
    "#Calculate score from your choice\n",
    "score = 0\n",
    "for item in plays:\n",
    "    score_choice = scoredict[item[2]]['points']\n",
    "    if scoredict[item[0]]['beats'] == scoredict[item[2]]['play']:\n",
    "        score_match = 0\n",
    "    elif scoredict[item[0]]['loses'] == scoredict[item[2]]['play']:\n",
    "        score_match = 6\n",
    "    else:\n",
    "        score_match = 3\n",
    "    score = score + score_choice + score_match\n",
    "print(score)"
   ]
  },
  {
   "cell_type": "markdown",
   "id": "9a93f5b7",
   "metadata": {},
   "source": [
    "Part 2"
   ]
  },
  {
   "cell_type": "code",
   "execution_count": 4,
   "id": "adbd6151",
   "metadata": {},
   "outputs": [],
   "source": [
    "#Define play and score dictionaries\n",
    "playdict = { 'A': {'play': 'Rock', 'X': 'Scissors', 'Z': 'Paper', 'Y': 'Rock'},\n",
    "              'B': {'play': 'Paper', 'X': 'Rock', 'Z': 'Scissors', 'Y': 'Paper'},\n",
    "              'C': {'play': 'Scissors', 'X': 'Paper', 'Z': 'Rock', 'Y': 'Scissors'}}\n",
    "scoredict = {'Rock': 1, 'Paper': 2, 'Scissors': 3, 'X': 0, 'Y': 3, 'Z': 6}"
   ]
  },
  {
   "cell_type": "code",
   "execution_count": 5,
   "id": "90e4afa6",
   "metadata": {},
   "outputs": [
    {
     "name": "stdout",
     "output_type": "stream",
     "text": [
      "10334\n"
     ]
    }
   ],
   "source": [
    "score = 0\n",
    "for item in plays:\n",
    "    #Find play from letter instructions (Rock, Paper or Scissors)\n",
    "    play = playdict[item[0]][item[2]]\n",
    "    #Find the score from that match\n",
    "    score_match = scoredict[play]\n",
    "    #Find the score from the choice (Rock, Paper or Scissors)\n",
    "    score_choice = scoredict[item[2]]\n",
    "    score = score + score_match + score_choice\n",
    "print(score)\n"
   ]
  }
 ],
 "metadata": {
  "kernelspec": {
   "display_name": "Python 3 (ipykernel)",
   "language": "python",
   "name": "python3"
  },
  "language_info": {
   "codemirror_mode": {
    "name": "ipython",
    "version": 3
   },
   "file_extension": ".py",
   "mimetype": "text/x-python",
   "name": "python",
   "nbconvert_exporter": "python",
   "pygments_lexer": "ipython3",
   "version": "3.9.7"
  }
 },
 "nbformat": 4,
 "nbformat_minor": 5
}
