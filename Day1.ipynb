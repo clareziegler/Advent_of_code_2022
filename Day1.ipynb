{
 "cells": [
  {
   "cell_type": "code",
   "execution_count": 1,
   "id": "c08c6a98",
   "metadata": {},
   "outputs": [],
   "source": [
    "import operator as op"
   ]
  },
  {
   "cell_type": "markdown",
   "id": "faaf863e",
   "metadata": {},
   "source": [
    "Part 1"
   ]
  },
  {
   "cell_type": "code",
   "execution_count": 2,
   "id": "5a6077df",
   "metadata": {},
   "outputs": [],
   "source": [
    "#Read file into list, stripping '\\n'\n",
    "items = []\n",
    "with open(r\"C:\\Users\\clare\\OneDrive\\Documents\\Advent-of-code-2022/input-day1.txt\", 'r') as itemlist:\n",
    "    for item in itemlist:               \n",
    "        items.append(item.strip('\\n'))      "
   ]
  },
  {
   "cell_type": "code",
   "execution_count": 3,
   "id": "1249e7f4",
   "metadata": {},
   "outputs": [],
   "source": [
    "#Add a '' to the end of the list\n",
    "items.append('')\n",
    "\n",
    "#Count number of elves\n",
    "num = op.countOf(items,'')"
   ]
  },
  {
   "cell_type": "code",
   "execution_count": 4,
   "id": "7f60be30",
   "metadata": {
    "scrolled": true
   },
   "outputs": [
    {
     "name": "stdout",
     "output_type": "stream",
     "text": [
      "71924\n"
     ]
    }
   ],
   "source": [
    "calories = []\n",
    "previndex = 0\n",
    "\n",
    "#Iterate over the number of elves\n",
    "for i in range(0, num):\n",
    "    #Find next '' in list\n",
    "    index = items.index('', previndex, len(items))\n",
    "    \n",
    "    #Find the sum of the list elements between the previous '' and the next ''\n",
    "    calories.append(sum([int(x) for x in items[previndex:index]]))\n",
    "    previndex = index + 1\n",
    "    i +=1\n",
    "\n",
    "#Print the max\n",
    "print(max(calories))"
   ]
  },
  {
   "cell_type": "markdown",
   "id": "147fd507",
   "metadata": {},
   "source": [
    "Part 2"
   ]
  },
  {
   "cell_type": "code",
   "execution_count": 5,
   "id": "657016b1",
   "metadata": {},
   "outputs": [
    {
     "name": "stdout",
     "output_type": "stream",
     "text": [
      "210406\n"
     ]
    }
   ],
   "source": [
    "calories.sort(reverse=True)\n",
    "print(sum(calories[0:3]))"
   ]
  }
 ],
 "metadata": {
  "kernelspec": {
   "display_name": "Python 3 (ipykernel)",
   "language": "python",
   "name": "python3"
  },
  "language_info": {
   "codemirror_mode": {
    "name": "ipython",
    "version": 3
   },
   "file_extension": ".py",
   "mimetype": "text/x-python",
   "name": "python",
   "nbconvert_exporter": "python",
   "pygments_lexer": "ipython3",
   "version": "3.9.7"
  }
 },
 "nbformat": 4,
 "nbformat_minor": 5
}
